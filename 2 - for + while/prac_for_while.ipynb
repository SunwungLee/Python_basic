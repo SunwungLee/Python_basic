{
 "cells": [
  {
   "cell_type": "markdown",
   "metadata": {},
   "source": [
    "# iteration"
   ]
  },
  {
   "cell_type": "markdown",
   "metadata": {},
   "source": [
    "for VAR in RANGE:\n",
    "    ...\n",
    "    continue # 다음 반복문으로 이동\n",
    "    ...\n",
    "    break # 반복문 종료\n",
    "\n",
    "\n",
    "for VAR in RANGE:\n",
    "    code\n",
    "else:\n",
    "    code after iteration"
   ]
  },
  {
   "cell_type": "markdown",
   "metadata": {},
   "source": [
    "## for "
   ]
  },
  {
   "cell_type": "code",
   "execution_count": 10,
   "metadata": {},
   "outputs": [
    {
     "name": "stdout",
     "output_type": "stream",
     "text": [
      "1 합격\n",
      ">>> 2 불합격\n",
      "3 합격\n",
      ">>> 4 불합격\n",
      "5 합격\n"
     ]
    }
   ],
   "source": [
    "marks = [90, 25, 67, 45, 80]\n",
    "\n",
    "number = 0\n",
    "for mark in marks:\n",
    "    number += 1\n",
    "    if mark >= 60:\n",
    "        print(\"%d 합격\" % number)\n",
    "    else:\n",
    "        print(\">>> %d 불합격\" % number)"
   ]
  },
  {
   "cell_type": "code",
   "execution_count": 11,
   "metadata": {},
   "outputs": [
    {
     "name": "stdout",
     "output_type": "stream",
     "text": [
      "Student(1): PASS\n",
      "Student(2): FAIL\n",
      "Student(3): PASS\n",
      "Student(4): FAIL\n",
      "Student(5): PASS\n"
     ]
    }
   ],
   "source": [
    "# While문\n",
    "marks = [90, 25, 67, 45, 80]\n",
    "k = 0;\n",
    "Result = \"None\"\n",
    "while k < len(marks):\n",
    "    if marks[k] >= 60:\n",
    "        Result = \"PASS\"\n",
    "    else:\n",
    "        Result = \"FAIL\"\n",
    "    print(f\"Student({k + 1}): {Result}\")\n",
    "    k += 1"
   ]
  },
  {
   "cell_type": "code",
   "execution_count": 12,
   "metadata": {},
   "outputs": [
    {
     "name": "stdout",
     "output_type": "stream",
     "text": [
      "Student(1): PASS\n",
      "Student(2): FAIL\n",
      "Student(3): PASS\n",
      "Student(4): FAIL\n",
      "Student(5): PASS\n"
     ]
    }
   ],
   "source": [
    "# For문\n",
    "marks = [90, 25, 67, 45, 80];\n",
    "result = \"None\"\n",
    "for i in marks:\n",
    "    if i >= 60:\n",
    "        result = \"PASS\"\n",
    "    else:\n",
    "        result = \"FAIL\"\n",
    "    print(f\"Student({marks.index(i) + 1}): {result}\")"
   ]
  },
  {
   "cell_type": "markdown",
   "metadata": {},
   "source": [
    "## continue & break "
   ]
  },
  {
   "cell_type": "code",
   "execution_count": 14,
   "metadata": {},
   "outputs": [
    {
     "name": "stdout",
     "output_type": "stream",
     "text": [
      "Congrat, 1\n",
      "Congrat, 3\n",
      "Congrat, 5\n"
     ]
    }
   ],
   "source": [
    "marks = [90, 25, 67, 45, 80];\n",
    "\n",
    "for mark in marks:\n",
    "    if mark < 60: continue\n",
    "    print(f\"Congrat, {marks.index(mark)+1}\")"
   ]
  },
  {
   "cell_type": "code",
   "execution_count": 15,
   "metadata": {},
   "outputs": [
    {
     "name": "stdout",
     "output_type": "stream",
     "text": [
      "Congrat, 1\n"
     ]
    }
   ],
   "source": [
    "marks = [90, 25, 67, 45, 80];\n",
    "\n",
    "for mark in marks:\n",
    "    if mark < 60: break\n",
    "    print(f\"Congrat, {marks.index(mark)+1}\")"
   ]
  },
  {
   "cell_type": "markdown",
   "metadata": {},
   "source": [
    "## range"
   ]
  },
  {
   "cell_type": "code",
   "execution_count": 25,
   "metadata": {},
   "outputs": [
    {
     "name": "stdout",
     "output_type": "stream",
     "text": [
      "i의 변함정도; 1\n",
      "i의 변함정도; 2\n",
      "i의 변함정도; 3\n",
      "i의 변함정도; 4\n",
      "i의 변함정도; 5\n",
      "i의 변함정도; 6\n",
      "i의 변함정도; 7\n",
      "i의 변함정도; 8\n",
      "i의 변함정도; 9\n",
      "i의 변함정도; 10\n",
      "55\n"
     ]
    }
   ],
   "source": [
    "sum = 0\n",
    "for i in range(1,11): # 1 ~ 10\n",
    "    sum += i\n",
    "    print(f\"i의 변함정도; {i}\")\n",
    "print(sum)"
   ]
  },
  {
   "cell_type": "code",
   "execution_count": 31,
   "metadata": {},
   "outputs": [],
   "source": [
    "import turtle\n",
    "t = turtle.Turtle()\n",
    "t.shape(\"turtle\")\n",
    "\n",
    "for i in range(3):\n",
    "    t.forward(100)\n",
    "    t.left(360 / 3)\n",
    "\n",
    "t.penup()\n",
    "t.goto(200,0)\n",
    "t.pendown()\n",
    "\n",
    "for i in range(4):\n",
    "    t.forward(100)\n",
    "    t.left(360 / 4)"
   ]
  },
  {
   "cell_type": "markdown",
   "metadata": {},
   "source": [
    "## While"
   ]
  },
  {
   "cell_type": "code",
   "execution_count": 11,
   "metadata": {},
   "outputs": [
    {
     "name": "stdout",
     "output_type": "stream",
     "text": [
      "0\n",
      "1\n",
      "2\n"
     ]
    }
   ],
   "source": [
    "i = 0\n",
    "while i <= 2:\n",
    "    print(i)\n",
    "    i+=1"
   ]
  },
  {
   "cell_type": "code",
   "execution_count": 14,
   "metadata": {
    "scrolled": true
   },
   "outputs": [
    {
     "name": "stdout",
     "output_type": "stream",
     "text": [
      "stock of coffee: 9\n",
      "stock of coffee: 8\n",
      "stock of coffee: 7\n",
      "stock of coffee: 6\n",
      "stock of coffee: 5\n",
      "stock of coffee: 4\n",
      "stock of coffee: 3\n",
      "stock of coffee: 2\n",
      "stock of coffee: 1\n",
      "stock of coffee: 0\n",
      "out of stock\n"
     ]
    }
   ],
   "source": [
    "coffee = 10\n",
    "money = 300\n",
    "while money:\n",
    "    coffee -= 1\n",
    "    print(f\"stock of coffee: {coffee}\")\n",
    "    if not coffee:\n",
    "        print(f\"out of stock\")\n",
    "        break"
   ]
  },
  {
   "cell_type": "code",
   "execution_count": 10,
   "metadata": {},
   "outputs": [
    {
     "name": "stdout",
     "output_type": "stream",
     "text": [
      "buy coffee --> remained money: 200 / stock of coffee: 9\n",
      "buy coffee --> remained money: 100 / stock of coffee: 8\n",
      "no money\n"
     ]
    }
   ],
   "source": [
    "coffee = 10\n",
    "money = 300\n",
    "while money:\n",
    "    coffee -= 1\n",
    "    money -= 100\n",
    "    if not money:\n",
    "        print(f\"no money\")\n",
    "        break\n",
    "    print(f\"buy coffee --> remained money: {money} / \" + f\"stock of coffee: {coffee}\")\n",
    "    if not coffee:\n",
    "        print(f\"out of stock\")\n",
    "        break\n",
    "    "
   ]
  },
  {
   "cell_type": "code",
   "execution_count": 20,
   "metadata": {},
   "outputs": [
    {
     "name": "stdout",
     "output_type": "stream",
     "text": [
      "5050\n"
     ]
    }
   ],
   "source": [
    "#coding: euc-kr\n",
    "cnt = 1\n",
    "total = 0\n",
    "while cnt <= 100:\n",
    "    total += cnt\n",
    "    cnt += 1\n",
    "print(total)"
   ]
  },
  {
   "cell_type": "code",
   "execution_count": 3,
   "metadata": {},
   "outputs": [
    {
     "name": "stdout",
     "output_type": "stream",
     "text": [
      "5050\n"
     ]
    }
   ],
   "source": [
    "#coding: euc-kr\n",
    "cnt = 1\n",
    "total = 0\n",
    "while True:\n",
    "    if cnt > 100:\n",
    "        break\n",
    "    total += cnt\n",
    "    cnt += 1\n",
    "print(total)"
   ]
  },
  {
   "cell_type": "code",
   "execution_count": 21,
   "metadata": {},
   "outputs": [
    {
     "name": "stdout",
     "output_type": "stream",
     "text": [
      "n을 입력하시오: 100\n",
      "total sum = 5050\n"
     ]
    }
   ],
   "source": [
    "#coding: euc-kr\n",
    "sum = 0\n",
    "n = int(input(\"n을 입력하시오: \"))\n",
    "for i in range(n+1):\n",
    "    sum += i\n",
    "\n",
    "print(f\"total sum = {total}\")"
   ]
  },
  {
   "cell_type": "markdown",
   "metadata": {},
   "source": [
    "### example"
   ]
  },
  {
   "cell_type": "code",
   "execution_count": null,
   "metadata": {},
   "outputs": [],
   "source": []
  }
 ],
 "metadata": {
  "kernelspec": {
   "display_name": "Python 3",
   "language": "python",
   "name": "python3"
  },
  "language_info": {
   "codemirror_mode": {
    "name": "ipython",
    "version": 3
   },
   "file_extension": ".py",
   "mimetype": "text/x-python",
   "name": "python",
   "nbconvert_exporter": "python",
   "pygments_lexer": "ipython3",
   "version": "3.8.5"
  }
 },
 "nbformat": 4,
 "nbformat_minor": 4
}
