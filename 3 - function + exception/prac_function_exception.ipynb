{
 "cells": [
  {
   "cell_type": "markdown",
   "metadata": {},
   "source": [
    "# Function with parameters"
   ]
  },
  {
   "cell_type": "code",
   "execution_count": 3,
   "metadata": {},
   "outputs": [],
   "source": [
    "# 매개변수에 초깃값 미리 설정가능"
   ]
  },
  {
   "cell_type": "markdown",
   "metadata": {},
   "source": [
    "##### lambda"
   ]
  },
  {
   "cell_type": "code",
   "execution_count": 8,
   "metadata": {},
   "outputs": [
    {
     "name": "stdout",
     "output_type": "stream",
     "text": [
      "res1 = 7\n",
      "res2 = (7, 12)\n"
     ]
    }
   ],
   "source": [
    "# lambda, python 3.3 version 이상부터 사용가능\n",
    "# def와 동일한 역할. but, 함수를 1줄로 간결하게 만들때 사용한다.\n",
    "# lambda 예약어로 만든 함수는 return 명령어가 없어도 결과를 return\n",
    "add = lambda a, b: a+b\n",
    "sum_and_mul = lambda a, b: (a+b, a*b)\n",
    "res1 = add(3,4)\n",
    "res2 = sum_and_mul(3,4)\n",
    "print(f\"res1 = {res1}\")\n",
    "print(f\"res2 = {res2}\")"
   ]
  },
  {
   "cell_type": "markdown",
   "metadata": {},
   "source": [
    "##### 함수 호출 과정\n",
    "1. 함수 호출 단계\\\n",
    "함수를 호출하면, 함수의 인자에 위치하는 변수가 함수 호출 시 입력된 인자 값을 바인딩 하게 된다. --> 메모리의 어딘가에 할당\n",
    "\n",
    "\n",
    "2. 함수 실행 단계\\\n",
    "함수의 수행할 문장이 실행\n",
    "\n",
    "\n",
    "3. 함수 종료 단계\\\n",
    "할당된 메모리를 자동으로 관리, 즉, 함수 호출이 끝나 더는 사용되지 않을 때, 자동으로 메모리 관리"
   ]
  },
  {
   "cell_type": "markdown",
   "metadata": {},
   "source": [
    "###### Python 내장함수"
   ]
  },
  {
   "cell_type": "code",
   "execution_count": 10,
   "metadata": {},
   "outputs": [
    {
     "data": {
      "text/plain": [
       "5"
      ]
     },
     "execution_count": 10,
     "metadata": {},
     "output_type": "execute_result"
    }
   ],
   "source": [
    "abs(5)"
   ]
  },
  {
   "cell_type": "code",
   "execution_count": 17,
   "metadata": {},
   "outputs": [
    {
     "data": {
      "text/plain": [
       "3.141592653589793"
      ]
     },
     "execution_count": 17,
     "metadata": {},
     "output_type": "execute_result"
    }
   ],
   "source": [
    "import math \n",
    "math.pi"
   ]
  },
  {
   "cell_type": "markdown",
   "metadata": {},
   "source": [
    "###### 예외처리\n",
    "\n",
    "1. try\\\n",
    "예외가 일어날 것 같은 코드, 위험한 코드\n",
    "\n",
    "2. except\\\n",
    "예외가 있을 때 실행될 코드\n",
    "\n",
    "3. else\\\n",
    "예외가 없을 때 실행될 코드\n",
    "\n",
    "4. finally\\\n",
    "예외와 상관없이 무조건 실행될 코드"
   ]
  },
  {
   "cell_type": "code",
   "execution_count": 23,
   "metadata": {},
   "outputs": [
    {
     "name": "stdout",
     "output_type": "stream",
     "text": [
      "1.5\n"
     ]
    }
   ],
   "source": [
    "def divide(m, n):\n",
    "    return m/n\n",
    "if __name__ == \"__main__\":\n",
    "    result = divide(3,2)\n",
    "    print(result)"
   ]
  },
  {
   "cell_type": "code",
   "execution_count": 33,
   "metadata": {},
   "outputs": [
    {
     "name": "stdout",
     "output_type": "stream",
     "text": [
      "1.5\n"
     ]
    }
   ],
   "source": [
    "def divide(m, n):\n",
    "    return m/n\n",
    "\n",
    "if __name__ == \"__main__\": # main이라는 것이 name 이라는 변수와 같니?\n",
    "    result = divide(3,2)\n",
    "    print(result)\n",
    "    #res = divide(3,0)\n",
    "    #print(res)"
   ]
  },
  {
   "cell_type": "code",
   "execution_count": 32,
   "metadata": {},
   "outputs": [
    {
     "name": "stdout",
     "output_type": "stream",
     "text": [
      "hihi\n"
     ]
    }
   ],
   "source": [
    "list = [1, 2, 3]\n",
    "try:\n",
    "    print(list[3])\n",
    "except:\n",
    "    print(\"Index error\")"
   ]
  },
  {
   "cell_type": "code",
   "execution_count": 37,
   "metadata": {},
   "outputs": [
    {
     "name": "stdout",
     "output_type": "stream",
     "text": [
      "문자를 입력해주세요 >> 1111\n",
      "당신이 입력한 문자는 1111 입니다.\n",
      "명령을 수행했습니다.\n"
     ]
    }
   ],
   "source": [
    "try: # 무조건 실행\n",
    "    str = input(\"문자를 입력해주세요 >> \")\n",
    "except EOFError: # 예외 1\n",
    "    print(\"읽을 문자가 없습니다.\")\n",
    "except KeyboardInterrupt: # 예외 2\n",
    "    print(\"입력이 취소되었습니다.\")\n",
    "else: # 예외상황이 아닐 경우 실행\n",
    "    print(\"당신이 입력한 문자는 %s 입니다.\" % (str))\n",
    "finally: # 예외상황이건 아니건 무조건 실행\n",
    "    print(\"명령을 수행했습니다.\")"
   ]
  },
  {
   "cell_type": "code",
   "execution_count": 39,
   "metadata": {},
   "outputs": [
    {
     "name": "stdout",
     "output_type": "stream",
     "text": [
      "1.5\n",
      "0으로 나눌 수 없다.\n",
      "None\n",
      "\n",
      "ZeroDivisionError 이외의 에러가 발생\n",
      "None\n"
     ]
    }
   ],
   "source": [
    "#coding: euc-kr\n",
    "def divide(m, n):\n",
    "    try:\n",
    "        res = m / n\n",
    "    except ZeroDivisionError:\n",
    "        print(\"0으로 나눌 수 없다.\")\n",
    "    except:\n",
    "        print(\"ZeroDivisionError 이외의 에러가 발생\")\n",
    "    else:\n",
    "        return res\n",
    "    finally:\n",
    "        print(\"나눗셈 연산.\")\n",
    "\n",
    "if __name__ == \"__main__\":\n",
    "    res = divide(3, 2)\n",
    "    print(res)\n",
    "    print()\n",
    "    res = divide(3, 0)\n",
    "    print(res)\n",
    "    print()\n",
    "    res = divide(None, 0)\n",
    "    print(res)\n"
   ]
  },
  {
   "cell_type": "markdown",
   "metadata": {},
   "source": [
    "###### file "
   ]
  },
  {
   "cell_type": "code",
   "execution_count": 55,
   "metadata": {},
   "outputs": [
    {
     "ename": "SyntaxError",
     "evalue": "(unicode error) 'unicodeescape' codec can't decode bytes in position 2-3: truncated \\UXXXXXXXX escape (<ipython-input-55-08164c89a0c6>, line 7)",
     "output_type": "error",
     "traceback": [
      "\u001b[1;36m  File \u001b[1;32m\"<ipython-input-55-08164c89a0c6>\"\u001b[1;36m, line \u001b[1;32m7\u001b[0m\n\u001b[1;33m    fp = open(\"C:\\Users\\User\\Desktop\\python\", encoding=\"utf-8\")\u001b[0m\n\u001b[1;37m              ^\u001b[0m\n\u001b[1;31mSyntaxError\u001b[0m\u001b[1;31m:\u001b[0m (unicode error) 'unicodeescape' codec can't decode bytes in position 2-3: truncated \\UXXXXXXXX escape\n"
     ]
    }
   ],
   "source": [
    "#coding: euc-kr\n",
    "import time\n",
    "fp = None\n",
    "fname = \"new_file.txt\"\n",
    "try:\n",
    "    fp = open(fname, encoding=\"utf-8\")\n",
    "    while(True):\n",
    "        line = fp.readline()\n",
    "        if not line:\n",
    "            break\n",
    "        print(line.rstrip(\"\\n\"))\n",
    "        time.sleep(1)\n",
    "except IOError:\n",
    "    print(f\"IO Error\")\n",
    "except KeyboardInterrupt:\n",
    "    print(\"KeyboradInterrupt \")\n",
    "finally:\n",
    "    if fp:\n",
    "        fp.close()"
   ]
  },
  {
   "cell_type": "code",
   "execution_count": null,
   "metadata": {},
   "outputs": [],
   "source": []
  }
 ],
 "metadata": {
  "kernelspec": {
   "display_name": "Python 3",
   "language": "python",
   "name": "python3"
  },
  "language_info": {
   "codemirror_mode": {
    "name": "ipython",
    "version": 3
   },
   "file_extension": ".py",
   "mimetype": "text/x-python",
   "name": "python",
   "nbconvert_exporter": "python",
   "pygments_lexer": "ipython3",
   "version": "3.8.5"
  }
 },
 "nbformat": 4,
 "nbformat_minor": 4
}
