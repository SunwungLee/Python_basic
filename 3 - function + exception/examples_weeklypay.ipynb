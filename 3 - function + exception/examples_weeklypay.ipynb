{
 "cells": [
  {
   "cell_type": "markdown",
   "metadata": {},
   "source": [
    "# Examples"
   ]
  },
  {
   "cell_type": "markdown",
   "metadata": {},
   "source": [
    "## 1. 주급 계산 프로젝트 \n",
    "\n",
    "주 단위로 봉급을 받는 알바생.\\\n",
    "현 시급과 일한 시간을 입력하면 주급을 계산 (weeklyPay(rate, hour))\n",
    "\n",
    "만약 30시간이 넘는 근무시간에 대해선 1.5배 시급"
   ]
  },
  {
   "cell_type": "code",
   "execution_count": 13,
   "metadata": {},
   "outputs": [],
   "source": [
    "def weeklyPay(rate, hour):\n",
    "    overtime = 30\n",
    "    incentive = 1.5\n",
    "    if hour > overtime:\n",
    "        weeklypay = rate*overtime + (rate*incentive)*(hour-overtime)\n",
    "    else:\n",
    "        weeklypay = rate*hour\n",
    "    return weeklypay"
   ]
  },
  {
   "cell_type": "code",
   "execution_count": 17,
   "metadata": {},
   "outputs": [
    {
     "name": "stdout",
     "output_type": "stream",
     "text": [
      "시급을 입력하시오: 10000\n",
      "근무 시간을 입력하시오: 38\n",
      "주급은 420000원\n"
     ]
    }
   ],
   "source": [
    "r = int(input(\"시급을 입력하시오: \"))\n",
    "h = int(input(\"근무 시간을 입력하시오: \"))\n",
    "\n",
    "print(f\"주급은 {int(weeklyPay(r, h))}원\")"
   ]
  },
  {
   "cell_type": "code",
   "execution_count": null,
   "metadata": {},
   "outputs": [],
   "source": []
  }
 ],
 "metadata": {
  "kernelspec": {
   "display_name": "Python 3",
   "language": "python",
   "name": "python3"
  },
  "language_info": {
   "codemirror_mode": {
    "name": "ipython",
    "version": 3
   },
   "file_extension": ".py",
   "mimetype": "text/x-python",
   "name": "python",
   "nbconvert_exporter": "python",
   "pygments_lexer": "ipython3",
   "version": "3.8.5"
  }
 },
 "nbformat": 4,
 "nbformat_minor": 4
}
