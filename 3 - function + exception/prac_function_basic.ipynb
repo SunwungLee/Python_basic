{
 "cells": [
  {
   "cell_type": "markdown",
   "metadata": {},
   "source": [
    "# function"
   ]
  },
  {
   "cell_type": "code",
   "execution_count": 18,
   "metadata": {},
   "outputs": [
    {
     "name": "stdout",
     "output_type": "stream",
     "text": [
      "함수 test: 8\n",
      "함수 test: -2\n",
      "3 + 5 = 8\n"
     ]
    }
   ],
   "source": [
    "# example\n",
    "def sum(a, b):\n",
    "    res = a + b\n",
    "    return res\n",
    "\n",
    "def substraction(a, b):\n",
    "    res = a - b\n",
    "    return res\n",
    "\n",
    "def printSum(a, b):\n",
    "    return print(f\"{a} + {b} = {a+b}\")\n",
    "\n",
    "result = sum(3,5)\n",
    "print (f\"함수 test: {result}\")\n",
    "\n",
    "result = substraction(3, 5)\n",
    "print (f\"함수 test: {result}\")\n",
    "\n",
    "printSum(3,5)"
   ]
  },
  {
   "cell_type": "code",
   "execution_count": 17,
   "metadata": {},
   "outputs": [
    {
     "name": "stdout",
     "output_type": "stream",
     "text": [
      "wyatt\n",
      "IncheonGyeyand-Gu Hyeongjaebong-gil 100\n",
      "010.0000.0000\n"
     ]
    }
   ],
   "source": [
    "# example\n",
    "def myname():\n",
    "    return \"wyatt\"\n",
    "def myadress():\n",
    "    print(\"Incheon\" + \"Gyeyand-Gu Hyeongjaebong-gil 100\")\n",
    "    print(\"010.0000.0000\")\n",
    "    \n",
    "myname = myname()\n",
    "print(myname)\n",
    "myadress()"
   ]
  },
  {
   "cell_type": "code",
   "execution_count": 16,
   "metadata": {},
   "outputs": [
    {
     "name": "stdout",
     "output_type": "stream",
     "text": [
      "36\n"
     ]
    }
   ],
   "source": [
    "import math\n",
    "# f(a) = a\n",
    "def myf1(a):\n",
    "    return a\n",
    "# f(a) = 2a + 1\n",
    "def myf2(a):\n",
    "    return 2*a + 1\n",
    "# circumference \n",
    "def circum(r):\n",
    "    return 2*math.pi*r\n",
    "# \n",
    "def myequ(x):\n",
    "    return x**2 + 2*x + 1\n",
    "\n",
    "a = 5\n",
    "print(myequ(a))"
   ]
  },
  {
   "cell_type": "code",
   "execution_count": 15,
   "metadata": {},
   "outputs": [
    {
     "name": "stdout",
     "output_type": "stream",
     "text": [
      "None\n"
     ]
    }
   ],
   "source": [
    "# '*'는 parameter 중 가장 마지막으로 들어가야 됨.\n",
    "def function(val, valA, *valB):\n",
    "    pass\n",
    "a = [1,2,3]\n",
    "print (function(1,4,5, 6))"
   ]
  },
  {
   "cell_type": "markdown",
   "metadata": {},
   "source": [
    "###### Tuple"
   ]
  },
  {
   "cell_type": "code",
   "execution_count": 14,
   "metadata": {},
   "outputs": [
    {
     "name": "stdout",
     "output_type": "stream",
     "text": [
      "function: sum_and_mul(3,7)\n",
      ">Result : (10, 21, -4)\n",
      "type of return: <class 'tuple'>\n",
      "idx 0: 10\n",
      "idx 1: 21\n",
      "idx 2: -4\n"
     ]
    }
   ],
   "source": [
    "def sum_and_mul(a,b):\n",
    "    return a+b, a*b, a-b\n",
    "\n",
    "# 결과 값은 언제나 하나. --> tuple 자료형을 사용해 하나로 취급\n",
    "res = sum_and_mul(3,7)\n",
    "print(f\"function: sum_and_mul(3,7)\\n>Result : {res}\")\n",
    "print(f\"type of return: {type(res)}\")\n",
    "print(f\"idx 0: {res[0]}\")\n",
    "print(f\"idx 1: {res[1]}\")\n",
    "print(f\"idx 2: {res[2]}\")"
   ]
  },
  {
   "cell_type": "code",
   "execution_count": 22,
   "metadata": {},
   "outputs": [
    {
     "name": "stdout",
     "output_type": "stream",
     "text": [
      "200 + 0 = 200\n",
      "200 - 0 = 200\n",
      "200 * 0 = 0\n",
      "200 / 0 = None\n"
     ]
    }
   ],
   "source": [
    "# example\n",
    "def mycalc(x, y):\n",
    "    if y != 0: div = x/y\n",
    "    else: div = None\n",
    "    return x+y, x-y, x*y, div\n",
    "\n",
    "n1, n2 = 200, 0\n",
    "res = mycalc(n1, n2)\n",
    "print (f\"{n1} + {n2} = {res[0]}\")\n",
    "print (f\"{n1} - {n2} = {res[1]}\")\n",
    "print (f\"{n1} * {n2} = {res[2]}\")\n",
    "print (f\"{n1} / {n2} = {res[3]}\")\n",
    "\n",
    "#res1, res2, res3, res4 = mycalc(n1, n2)\n",
    "#print (f\"{n1} + {n2} = {res1}\")\n",
    "#print (f\"{n1} - {n2} = {res2}\")\n",
    "#print (f\"{n1} * {n2} = {res3}\")\n",
    "#print (f\"{n1} / {n2} = {res4}\")\n"
   ]
  },
  {
   "cell_type": "code",
   "execution_count": 33,
   "metadata": {},
   "outputs": [
    {
     "name": "stdout",
     "output_type": "stream",
     "text": [
      "1 제곱: 1, 2 제곱: 4, 3 제곱: 9\n"
     ]
    }
   ],
   "source": [
    "def get_square(a, b, c):\n",
    "    return pow(a,2), pow(b,2), pow(c,2)\n",
    "\n",
    "a,b,c = 1,2,3\n",
    "a_sq, b_sq, c_sq = get_square(a,b,c)\n",
    "print(f\"{a} 제곱: {a_sq}, {b} 제곱: {b_sq}, {c} 제곱: {c_sq}\")"
   ]
  },
  {
   "cell_type": "code",
   "execution_count": null,
   "metadata": {},
   "outputs": [],
   "source": []
  }
 ],
 "metadata": {
  "kernelspec": {
   "display_name": "Python 3",
   "language": "python",
   "name": "python3"
  },
  "language_info": {
   "codemirror_mode": {
    "name": "ipython",
    "version": 3
   },
   "file_extension": ".py",
   "mimetype": "text/x-python",
   "name": "python",
   "nbconvert_exporter": "python",
   "pygments_lexer": "ipython3",
   "version": "3.8.5"
  }
 },
 "nbformat": 4,
 "nbformat_minor": 4
}
