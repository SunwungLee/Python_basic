{
 "cells": [
  {
   "cell_type": "markdown",
   "metadata": {},
   "source": [
    "# class\n",
    "자료 < 함수 < 모듈 < 패키지 < 프로그램\n",
    "\n",
    "\n",
    "- 자료 : 변수, Data\n",
    "- 함수 : 조각\n",
    "- 모듈 : 조각 묶음, file 형태(.py), 설치폴더(python\\lib, Anaconda)\n",
    "- 패키지 : Directory(파일들의 방) -> 패키지로 변환(```__init__.py``` 변수이용해서)\n"
   ]
  },
  {
   "cell_type": "markdown",
   "metadata": {},
   "source": [
    "클래스의 첫 글자는 대문자\\\n",
    "PEP 8 Coing Convention에 가이드된 대로 e.g. CapWork 방식\n",
    "\n",
    "클래스는\n",
    "- method\n",
    "- property\n",
    "- class variable\n",
    "- instance variable\n",
    "- initialiser\n",
    "- destructor\n",
    "등의 멤버를 가질 수 있음\n",
    "\n",
    "> 변수\\\n",
    "    1. Local(지역) : 해당 method에서만 사용\\\n",
    "    2. 멤버(전역) : class 내 어느곳에서나 사용 가능, class명 선언 후 선언\\\n",
    "    3. class  : 기능 동일, 선언시 차이(class명으로 선언)\\\n",
    "    4. instance : 값이 변경되는 변수. 생성자에의해 기능이 변경\n",
    "\n"
   ]
  },
  {
   "cell_type": "code",
   "execution_count": null,
   "metadata": {},
   "outputs": [],
   "source": []
  }
 ],
 "metadata": {
  "kernelspec": {
   "display_name": "Python 3",
   "language": "python",
   "name": "python3"
  },
  "language_info": {
   "codemirror_mode": {
    "name": "ipython",
    "version": 3
   },
   "file_extension": ".py",
   "mimetype": "text/x-python",
   "name": "python",
   "nbconvert_exporter": "python",
   "pygments_lexer": "ipython3",
   "version": "3.8.5"
  }
 },
 "nbformat": 4,
 "nbformat_minor": 4
}
