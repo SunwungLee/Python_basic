{
 "cells": [
  {
   "cell_type": "markdown",
   "metadata": {},
   "source": [
    "# 조건문\n"
   ]
  },
  {
   "cell_type": "code",
   "execution_count": 2,
   "metadata": {},
   "outputs": [
    {
     "name": "stdout",
     "output_type": "stream",
     "text": [
      "Buy 10\n"
     ]
    }
   ],
   "source": [
    "price = 123\n"
   ]
  },
  {
   "cell_type": "code",
   "execution_count": 2,
   "metadata": {},
   "outputs": [
    {
     "name": "stdout",
     "output_type": "stream",
     "text": [
      "Buy 10\n",
      "Buy 10\n"
     ]
    }
   ],
   "source": [
    "price = 123\n",
    "if price >= 100:\n",
    "    print(\"Buy 10\")\n",
    "    \n",
    "if price >= 100:\n",
    "    print(\"Buy 10\")"
   ]
  },
  {
   "cell_type": "code",
   "execution_count": null,
   "metadata": {},
   "outputs": [],
   "source": [
    "# coding: euc-kr\n",
    "# euc-kr = 한글 인코딩, 이 코드라인은 코드 첫줄에만 써야함.\n",
    "grade = float(input(\"총 평점을 입력하세요: \"))\n",
    "\n",
    "if grade >= 4.3:\n",
    "    print(\"장학금 수여대상 입니다.\")\n",
    "    print(\"축하합니다\")\n",
    "    \n",
    "print(\"공부 열심히 하세요\")"
   ]
  },
  {
   "cell_type": "code",
   "execution_count": 8,
   "metadata": {},
   "outputs": [
    {
     "name": "stdout",
     "output_type": "stream",
     "text": [
      ":(\n"
     ]
    }
   ],
   "source": [
    "money = 123\n",
    "if money >= 500:\n",
    "    print(\":)\")\n",
    "else:\n",
    "    print(\":(\")"
   ]
  },
  {
   "cell_type": "code",
   "execution_count": 9,
   "metadata": {},
   "outputs": [
    {
     "name": "stdout",
     "output_type": "stream",
     "text": [
      "숫자를 입력하시오: 5\n",
      "홀수\n"
     ]
    }
   ],
   "source": [
    "#coding: euc-kr\n",
    "\n",
    "data = int(input(\"숫자를 입력하시오: \"))\n",
    "\n",
    "if data%2 == 0:\n",
    "    print(\"짝수\")\n",
    "else:\n",
    "    print(\"홀수\")"
   ]
  },
  {
   "cell_type": "code",
   "execution_count": 16,
   "metadata": {},
   "outputs": [],
   "source": [
    "# turtle example\n",
    "import turtle\n",
    "t = turtle.Turtle()\n",
    "t.shape(\"turtle\")\n",
    "\n",
    "t.penup() # 펜을 올려서 그림이 그려지지 않게 함.\n",
    "t.goto(100, 100) # 거북이를 이동시킴\n",
    "t.write(\"거북이가 여기로 오면 양수입니다.\")\n",
    "t.goto(100, 0)\n",
    "t.write(\"거북이가 여기로 오면 0입니다.\")\n",
    "t.goto(100, -100)\n",
    "t.write(\"거북이가 여기로 오면 음수입니다.\")\n",
    "\n",
    "t.goto(0, 0)\n",
    "t.pendown() # 펜을 내려서 그림이 그려지게 함.\n",
    "s = turtle.textinput(\"\", \"숫자를 입력: \")\n",
    "n = int(s)\n",
    "\n",
    "if n > 0:\n",
    "    t.goto(100,100)\n",
    "elif n == 0:\n",
    "    t.goto(100,0)    \n",
    "else:\n",
    "    t.goto(100,-100)\n",
    "    \n"
   ]
  },
  {
   "cell_type": "code",
   "execution_count": 4,
   "metadata": {},
   "outputs": [
    {
     "name": "stdout",
     "output_type": "stream",
     "text": [
      "나이를 입력하세요: 25\n",
      "키를 입력하세요: 171\n",
      "키: 보통\n"
     ]
    }
   ],
   "source": [
    "#coding: euc-kr\n",
    "age = int(input(\"나이를 입력하세요: \"))\n",
    "height = int(input(\"키를 입력하세요: \"))\n",
    "\n",
    "if age >= 40:\n",
    "    if height >= 170:\n",
    "        print(\"키: 보통 이상\")\n",
    "    else:\n",
    "        print(\"키: 보통\")\n",
    "else:\n",
    "    if height >= 175:\n",
    "        print(\"키: 보통 이상\")\n",
    "    else:\n",
    "        print(\"키: 보통\")"
   ]
  },
  {
   "cell_type": "code",
   "execution_count": 12,
   "metadata": {},
   "outputs": [
    {
     "name": "stdout",
     "output_type": "stream",
     "text": [
      "총점을 입력해 주세요: 50\n",
      "C\n"
     ]
    }
   ],
   "source": [
    "#coding: euc-kr\n",
    "score = int(input(\"총점을 입력해 주세요: \"))\n",
    "if (score >= 90):\n",
    "    print(\"A\")\n",
    "elif (80 <= score < 90):\n",
    "    print(\"B\")\n",
    "else:\n",
    "    print(\"C\")"
   ]
  },
  {
   "cell_type": "markdown",
   "metadata": {},
   "source": [
    "### index slicing"
   ]
  },
  {
   "cell_type": "code",
   "execution_count": 15,
   "metadata": {},
   "outputs": [
    {
     "data": {
      "text/plain": [
       "[3, 4, 5]"
      ]
     },
     "execution_count": 15,
     "metadata": {},
     "output_type": "execute_result"
    }
   ],
   "source": [
    "a = [1, 2, 3, 4, 5]\n",
    "a[0:2]\n",
    "b = a[: 2]\n",
    "c = a[2 :]\n",
    "b\n",
    "c"
   ]
  },
  {
   "cell_type": "code",
   "execution_count": null,
   "metadata": {},
   "outputs": [],
   "source": []
  }
 ],
 "metadata": {
  "kernelspec": {
   "display_name": "Python 3",
   "language": "python",
   "name": "python3"
  },
  "language_info": {
   "codemirror_mode": {
    "name": "ipython",
    "version": 3
   },
   "file_extension": ".py",
   "mimetype": "text/x-python",
   "name": "python",
   "nbconvert_exporter": "python",
   "pygments_lexer": "ipython3",
   "version": "3.8.5"
  }
 },
 "nbformat": 4,
 "nbformat_minor": 4
}
